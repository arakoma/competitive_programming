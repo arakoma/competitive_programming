{
 "cells": [
  {
   "cell_type": "code",
   "execution_count": null,
   "metadata": {},
   "outputs": [],
   "source": [
    "N = int(input())\n",
    "xu = [input().split() for _ in range(N)]\n",
    "\n",
    "xu_list = []\n",
    "for i in range(N):\n",
    "    if xu[i][1] == \"JPY\":\n",
    "        xu_list.append(float(xu[i][0]))\n",
    "    elif xu[i][1] == \"BTC\":\n",
    "        xu_list.append(float(xu[i][0])*380000.0)\n",
    "\n",
    "print(sum(xu_list))"
   ]
  },
  {
   "cell_type": "code",
   "execution_count": null,
   "metadata": {},
   "outputs": [],
   "source": [
    "N, a, b, c = map(int,input().split())\n",
    "for _ in range(N):\n",
    "    l_li = [].append(int(input()))\n",
    "\n",
    "abc = [a, b, c]\n",
    "MP = 0\n",
    "\n"
   ]
  }
 ],
 "metadata": {
  "kernelspec": {
   "display_name": "Python 3",
   "language": "python",
   "name": "python3"
  },
  "language_info": {
   "codemirror_mode": {
    "name": "ipython",
    "version": 3
   },
   "file_extension": ".py",
   "mimetype": "text/x-python",
   "name": "python",
   "nbconvert_exporter": "python",
   "pygments_lexer": "ipython3",
   "version": "3.7.0"
  }
 },
 "nbformat": 4,
 "nbformat_minor": 2
}
